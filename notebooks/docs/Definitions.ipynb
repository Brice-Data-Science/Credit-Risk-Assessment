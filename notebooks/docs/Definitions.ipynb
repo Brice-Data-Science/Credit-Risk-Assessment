{
 "cells": [
  {
   "metadata": {},
   "cell_type": "markdown",
   "source": [
    "# Variables\n",
    "- This research employed a binary variable, default payment (Yes = 1, No = 0), as the response variable.\n",
    "- This study reviewed the literature and used the following 23 variables as explanatory variables:\n",
    "    - X1: Amount of the given credit (NT dollar): it includes both the individual consumer credit and his/her family (supplementary) credit.\n",
    "    - X2: Gender (1 = male; 2 = female).\n",
    "    - X3: Education (1 = graduate school; 2 = university; 3 = high school; 4 = others).\n",
    "    - X4: Marital status (1 = married; 2 = single; 3 = others).\n",
    "    - X5: Age (year).\n",
    "    - X6 - X11: History of past payment.\n",
    "        - We tracked the past monthly payment records (from April to September, 2005) as follows: X6 = the repayment status in September, 2005;\n",
    "        - X7 = the repayment status in August, 2005; . . .;\n",
    "        - X11 = the repayment status in April, 2005.\n",
    "        - The measurement scale for the repayment status is:\n",
    "                - -1 = pay duly;\n",
    "                - 1 = payment delay for one month;\n",
    "                - 2 = payment delay for two months; . . .;\n",
    "                - 8 = payment delay for eight months;\n",
    "                - 9 = payment delay for nine months and above.\n",
    "        - X12-X17: Amount of bill statement (NT dollar). X12 = amount of bill statement in September, 2005;\n",
    "        - X13 = amount of bill statement in August, 2005; . . .;\n",
    "        - X17 = amount of bill statement in April, 2005.\n",
    "        - X18-X23: Amount of previous payment (NT dollar).\n",
    "                - X18 = amount paid in September, 2005;\n",
    "                - X19 = amount paid in August, 2005; . . .;\n",
    "                - X23 = amount paid in April, 2005."
   ],
   "id": "9ebba3d3f59b1b57"
  }
 ],
 "metadata": {
  "kernelspec": {
   "display_name": "Python 3",
   "language": "python",
   "name": "python3"
  },
  "language_info": {
   "codemirror_mode": {
    "name": "ipython",
    "version": 2
   },
   "file_extension": ".py",
   "mimetype": "text/x-python",
   "name": "python",
   "nbconvert_exporter": "python",
   "pygments_lexer": "ipython2",
   "version": "2.7.6"
  }
 },
 "nbformat": 4,
 "nbformat_minor": 5
}
