{
 "cells": [
  {
   "metadata": {},
   "cell_type": "markdown",
   "source": [
    "# 🏦 Credit Risk Assessment: Predicting Credit Card Defaults\n",
    "\n",
    "## 📌 Project Overview\n",
    "\n",
    "In this project, I explore a real-world dataset of credit card clients to build a machine learning model that predicts whether a customer will default on their payment. This type of model is commonly used by financial institutions to assess borrower risk and make informed lending decisions.\n",
    "\n",
    "The focus is on understanding:\n",
    "- Which customer attributes (e.g., payment history, credit limit, bill amounts) are most predictive of default.\n",
    "- How well a logistic regression model can perform in identifying risky clients.\n",
    "- The challenges of working with imbalanced datasets in financial prediction.\n",
    "\n",
    "---\n",
    "\n",
    "## 🗂️ Data Source\n",
    "\n",
    "Dataset: **Default of Credit Card Clients**\n",
    "\n",
    "- **Source**: [UCI Machine Learning Repository](https://archive.ics.uci.edu/ml/datasets/default+of+credit+card+clients)\n",
    "- **Direct Download**: [Credit Card Default CSV](https://archive.ics.uci.edu/ml/machine-learning-databases/00350/default%20of%20credit%20card%20clients.xls)\n",
    "\n",
    "> Note: This file is in `.xls` format. Use `pandas.read_excel()` to load it.\n",
    "\n",
    "---\n",
    "\n",
    "## 🔍 Project Objectives\n",
    "\n",
    "1. **Data Cleaning & Preprocessing**\n",
    "- Load the dataset and handle missing/null values (if any)\n",
    "- Rename columns for clarity\n",
    "    - Convert categorical variables (e.g., education, gender) into readable labels\n",
    "\n",
    "2. **Exploratory Data Analysis (EDA)**\n",
    "- Distribution of default vs non-default clients\n",
    "- Correlation between features and default status\n",
    "- Visualizations: bar plots, histograms, heatmaps\n",
    "\n",
    "3. **Feature Engineering**\n",
    "- Convert categorical features into dummy/encoded variables\n",
    "- Normalize or scale continuous variables\n",
    "- Handle class imbalance if needed (e.g., SMOTE)\n",
    "\n",
    "4. **Model Building**\n",
    "- Train a logistic regression model (baseline)\n",
    "- Evaluate with accuracy, precision, recall, F1-score\n",
    "    - Use a confusion matrix and ROC curve to visualize performance\n",
    "\n",
    "5. **Insights & Interpretation**\n",
    "- Which features have the strongest influence on default risk?\n",
    "- What would a risk manager or fintech product owner take away?\n",
    "\n",
    "6. **(Optional) Advanced Modeling**\n",
    "- Try random forest, XGBoost, or a decision tree\n",
    "- Use GridSearchCV for hyperparameter tuning\n",
    "    - Compare performance metrics\n",
    "\n",
    "---\n",
    "\n",
    "## ✅ Key Skills Practiced\n",
    "\n",
    "- Data wrangling and transformation (`pandas`, `numpy`)\n",
    "- Exploratory Data Analysis (`matplotlib`, `seaborn`)\n",
    "- Classification modeling (`scikit-learn`)\n",
    "- Evaluation metrics for imbalanced data\n",
    "    - Feature importance interpretation\n",
    "\n",
    "---\n",
    "\n",
    "## 🚀 Next Steps\n",
    "\n",
    "- Package this into a simple Streamlit or Flask app to allow user input and get a default risk score\n",
    "- Explore SHAP values for better explainability\n",
    "    - Use a real-time scoring API or dashboard for production simulation\n",
    "\n"
   ],
   "id": "bb1c0787ac6f58fb"
  },
  {
   "metadata": {},
   "cell_type": "markdown",
   "source": [
    "## 🧹 Step 1: Load and Inspect the Dataset\n",
    "\n",
    "- Download the dataset from the UCI repository (link above)\n",
    "- Load the Excel file into a DataFrame\n",
    "- Check the shape (rows x columns)\n",
    "- Display the first few rows to get a feel for the data\n",
    "- Verify column names and datatypes\n",
    "\n",
    "---\n",
    "\n",
    "## 🔍 Step 2: Clean and Prepare the Data\n",
    "\n",
    "- Rename columns for readability (optional, but helpful)\n",
    "- Drop or handle any irrelevant or duplicate columns\n",
    "- Check for missing values\n",
    "  - If any exist, decide whether to fill, drop, or flag them\n",
    "- Confirm data types (e.g., numeric, categorical, object)\n",
    "  - Convert types where appropriate (e.g., categorical labels)\n",
    "\n",
    "---\n",
    "\n",
    "## 📊 Step 3: Explore the Data (EDA)\n",
    "\n",
    "- Analyze the distribution of the target variable (default vs no default)\n",
    "- Explore distributions of key features (e.g., age, bill amount, payment history)\n",
    "- Visualize relationships:\n",
    "  - Bar plots, histograms, boxplots, correlation heatmaps\n",
    "- Look for class imbalance and feature skewness\n",
    "- Start asking early questions:\n",
    "  - Do payment delays correlate with defaults?\n",
    "  - Are certain age groups riskier?\n",
    "\n",
    "---\n",
    "\n",
    "## 🛠️ Step 4: Prepare Data for Modeling (Coming Soon)\n",
    "\n",
    "- Encode categorical features (if needed)\n",
    "- Normalize or scale continuous features\n",
    "- Split into training/testing sets\n",
    "- Plan model evaluation strategy (accuracy, precision, recall, F1, ROC)\n",
    "\n"
   ],
   "id": "cb7e7ca0106885b4"
  },
  {
   "metadata": {
    "ExecuteTime": {
     "end_time": "2025-04-06T01:30:41.213605Z",
     "start_time": "2025-04-06T01:30:40.880776Z"
    }
   },
   "cell_type": "code",
   "source": [
    "import numpy as np\n",
    "import pandas as pd\n",
    "import matplotlib.pyplot as plt\n",
    "import seaborn as sns\n",
    "from sklearn.linear_model import LogisticRegression\n",
    "from sklearn.model_selection import train_test_split\n",
    "from sklearn import metrics\n",
    "import warnings\n",
    "warnings.filterwarnings('ignore')"
   ],
   "id": "618bc3e3a48e667d",
   "outputs": [],
   "execution_count": 2
  },
  {
   "metadata": {
    "ExecuteTime": {
     "end_time": "2025-04-06T01:30:44.074346Z",
     "start_time": "2025-04-06T01:30:41.274959Z"
    }
   },
   "cell_type": "code",
   "source": [
    "# assign a variable to the raw data path\n",
    "cc_data_path = '../data/raw/default_of_credit_card_clients.xls'\n",
    "# Load the data set\n",
    "df = pd.read_excel(cc_data_path, header=0)\n",
    "\n",
    "# check the data set shape\n",
    "print(\"Data set shape: \", df.shape)\n",
    "\n",
    "# check the data types\n",
    "print(\"Data types: \", df.info())\n",
    "\n",
    "# Verify the fix\n",
    "print(\"New data types after proper loading:\")\n",
    "print(df.dtypes)\n",
    "\n",
    "# Review the first 5 rows of the data\n",
    "print(\"\\nFirst few rows of fixed data:\")\n",
    "print(df.head())\n"
   ],
   "id": "6eb3c793a7fd5cbb",
   "outputs": [
    {
     "name": "stdout",
     "output_type": "stream",
     "text": [
      "Data set shape:  (30001, 25)\n",
      "<class 'pandas.core.frame.DataFrame'>\n",
      "RangeIndex: 30001 entries, 0 to 30000\n",
      "Data columns (total 25 columns):\n",
      " #   Column      Non-Null Count  Dtype \n",
      "---  ------      --------------  ----- \n",
      " 0   Unnamed: 0  30001 non-null  object\n",
      " 1   X1          30001 non-null  object\n",
      " 2   X2          30001 non-null  object\n",
      " 3   X3          30001 non-null  object\n",
      " 4   X4          30001 non-null  object\n",
      " 5   X5          30001 non-null  object\n",
      " 6   X6          30001 non-null  object\n",
      " 7   X7          30001 non-null  object\n",
      " 8   X8          30001 non-null  object\n",
      " 9   X9          30001 non-null  object\n",
      " 10  X10         30001 non-null  object\n",
      " 11  X11         30001 non-null  object\n",
      " 12  X12         30001 non-null  object\n",
      " 13  X13         30001 non-null  object\n",
      " 14  X14         30001 non-null  object\n",
      " 15  X15         30001 non-null  object\n",
      " 16  X16         30001 non-null  object\n",
      " 17  X17         30001 non-null  object\n",
      " 18  X18         30001 non-null  object\n",
      " 19  X19         30001 non-null  object\n",
      " 20  X20         30001 non-null  object\n",
      " 21  X21         30001 non-null  object\n",
      " 22  X22         30001 non-null  object\n",
      " 23  X23         30001 non-null  object\n",
      " 24  Y           30001 non-null  object\n",
      "dtypes: object(25)\n",
      "memory usage: 5.7+ MB\n",
      "Data types:  None\n",
      "New data types after proper loading:\n",
      "Unnamed: 0    object\n",
      "X1            object\n",
      "X2            object\n",
      "X3            object\n",
      "X4            object\n",
      "X5            object\n",
      "X6            object\n",
      "X7            object\n",
      "X8            object\n",
      "X9            object\n",
      "X10           object\n",
      "X11           object\n",
      "X12           object\n",
      "X13           object\n",
      "X14           object\n",
      "X15           object\n",
      "X16           object\n",
      "X17           object\n",
      "X18           object\n",
      "X19           object\n",
      "X20           object\n",
      "X21           object\n",
      "X22           object\n",
      "X23           object\n",
      "Y             object\n",
      "dtype: object\n",
      "\n",
      "First few rows of fixed data:\n",
      "  Unnamed: 0         X1   X2         X3        X4   X5     X6     X7     X8  \\\n",
      "0         ID  LIMIT_BAL  SEX  EDUCATION  MARRIAGE  AGE  PAY_0  PAY_2  PAY_3   \n",
      "1          1      20000    2          2         1   24      2      2     -1   \n",
      "2          2     120000    2          2         2   26     -1      2      0   \n",
      "3          3      90000    2          2         2   34      0      0      0   \n",
      "4          4      50000    2          2         1   37      0      0      0   \n",
      "\n",
      "      X9  ...        X15        X16        X17       X18       X19       X20  \\\n",
      "0  PAY_4  ...  BILL_AMT4  BILL_AMT5  BILL_AMT6  PAY_AMT1  PAY_AMT2  PAY_AMT3   \n",
      "1     -1  ...          0          0          0         0       689         0   \n",
      "2      0  ...       3272       3455       3261         0      1000      1000   \n",
      "3      0  ...      14331      14948      15549      1518      1500      1000   \n",
      "4      0  ...      28314      28959      29547      2000      2019      1200   \n",
      "\n",
      "        X21       X22       X23                           Y  \n",
      "0  PAY_AMT4  PAY_AMT5  PAY_AMT6  default payment next month  \n",
      "1         0         0         0                           1  \n",
      "2      1000         0      2000                           1  \n",
      "3      1000      1000      5000                           0  \n",
      "4      1100      1069      1000                           0  \n",
      "\n",
      "[5 rows x 25 columns]\n"
     ]
    }
   ],
   "execution_count": 3
  },
  {
   "metadata": {},
   "cell_type": "markdown",
   "source": [
    "## Data Investigation\n",
    "\n",
    "- For more detailed documentation, see docs/data_investigation.ipynb"
   ],
   "id": "679ac5567e921fb4"
  },
  {
   "metadata": {
    "ExecuteTime": {
     "end_time": "2025-04-06T01:30:44.146605Z",
     "start_time": "2025-04-06T01:30:44.129001Z"
    }
   },
   "cell_type": "code",
   "source": [
    "# Let's look at the first few rows of numeric columns to see how they're stored\n",
    "print(\"Sample of what should be numeric data:\")\n",
    "print(df.iloc[:5, :5])  # First 5 rows and columns as an example\n",
    "\n",
    "# Check if we have any special characters or formatting in the numbers\n",
    "print(\"\\nUnique values in first numeric column:\")\n",
    "print(df.iloc[:, 0].unique()[:5])  # First 5 unique values from first column\n"
   ],
   "id": "eac8d7a380573d3",
   "outputs": [
    {
     "name": "stdout",
     "output_type": "stream",
     "text": [
      "Sample of what should be numeric data:\n",
      "  Unnamed: 0         X1   X2         X3        X4\n",
      "0         ID  LIMIT_BAL  SEX  EDUCATION  MARRIAGE\n",
      "1          1      20000    2          2         1\n",
      "2          2     120000    2          2         2\n",
      "3          3      90000    2          2         2\n",
      "4          4      50000    2          2         1\n",
      "\n",
      "Unique values in first numeric column:\n",
      "['ID' 1 2 3 4]\n"
     ]
    }
   ],
   "execution_count": 4
  },
  {
   "metadata": {},
   "cell_type": "markdown",
   "source": [
    "## Problem identified\n",
    "- See docs/data_investigation.ipynb for further details\n",
    "- See fixed code above\n",
    "- See further diagnostics below"
   ],
   "id": "ae4d0631249b222d"
  },
  {
   "metadata": {
    "ExecuteTime": {
     "end_time": "2025-04-06T01:30:44.301131Z",
     "start_time": "2025-04-06T01:30:44.190966Z"
    }
   },
   "cell_type": "code",
   "source": [
    "# %%\n",
    "# Detailed column investigation\n",
    "print(\"Column names:\")\n",
    "print(df.columns.tolist())\n",
    "\n",
    "# Let's examine each column's unique values\n",
    "for col in df.columns[:5]:  # Starting with first 5 columns\n",
    "    print(f\"\\nColumn: {col}\")\n",
    "    print(\"Sample unique values:\")\n",
    "    print(df[col].unique()[:5])\n",
    "    print(\"Value counts:\")\n",
    "    print(df[col].value_counts().head())\n",
    "    print(\"Can convert to numeric?\")\n",
    "    print(f\"NA count if converted: {pd.to_numeric(df[col], errors='coerce').isna().sum()}\")\n"
   ],
   "id": "db2d2fbceb99be22",
   "outputs": [
    {
     "name": "stdout",
     "output_type": "stream",
     "text": [
      "Column names:\n",
      "['Unnamed: 0', 'X1', 'X2', 'X3', 'X4', 'X5', 'X6', 'X7', 'X8', 'X9', 'X10', 'X11', 'X12', 'X13', 'X14', 'X15', 'X16', 'X17', 'X18', 'X19', 'X20', 'X21', 'X22', 'X23', 'Y']\n",
      "\n",
      "Column: Unnamed: 0\n",
      "Sample unique values:\n",
      "['ID' 1 2 3 4]\n",
      "Value counts:\n",
      "Unnamed: 0\n",
      "ID       1\n",
      "19997    1\n",
      "20009    1\n",
      "20008    1\n",
      "20007    1\n",
      "Name: count, dtype: int64\n",
      "Can convert to numeric?\n",
      "NA count if converted: 1\n",
      "\n",
      "Column: X1\n",
      "Sample unique values:\n",
      "['LIMIT_BAL' 20000 120000 90000 50000]\n",
      "Value counts:\n",
      "X1\n",
      "50000     3365\n",
      "20000     1976\n",
      "30000     1610\n",
      "80000     1567\n",
      "200000    1528\n",
      "Name: count, dtype: int64\n",
      "Can convert to numeric?\n",
      "NA count if converted: 1\n",
      "\n",
      "Column: X2\n",
      "Sample unique values:\n",
      "['SEX' 2 1]\n",
      "Value counts:\n",
      "X2\n",
      "2      18112\n",
      "1      11888\n",
      "SEX        1\n",
      "Name: count, dtype: int64\n",
      "Can convert to numeric?\n",
      "NA count if converted: 1\n",
      "\n",
      "Column: X3\n",
      "Sample unique values:\n",
      "['EDUCATION' 2 1 3 5]\n",
      "Value counts:\n",
      "X3\n",
      "2    14030\n",
      "1    10585\n",
      "3     4917\n",
      "5      280\n",
      "4      123\n",
      "Name: count, dtype: int64\n",
      "Can convert to numeric?\n",
      "NA count if converted: 1\n",
      "\n",
      "Column: X4\n",
      "Sample unique values:\n",
      "['MARRIAGE' 1 2 3 0]\n",
      "Value counts:\n",
      "X4\n",
      "2           15964\n",
      "1           13659\n",
      "3             323\n",
      "0              54\n",
      "MARRIAGE        1\n",
      "Name: count, dtype: int64\n",
      "Can convert to numeric?\n",
      "NA count if converted: 1\n"
     ]
    }
   ],
   "execution_count": 5
  },
  {
   "metadata": {},
   "cell_type": "markdown",
   "source": "## Diagnostics to investigate why the data in the dataframe is still an object",
   "id": "a3542882d6d1d1d6"
  },
  {
   "metadata": {
    "ExecuteTime": {
     "end_time": "2025-04-06T01:30:44.424421Z",
     "start_time": "2025-04-06T01:30:44.333715Z"
    }
   },
   "cell_type": "code",
   "source": [
    "# Display initial information\n",
    "print(\"DataFrame Info:\")\n",
    "print(df.info())\n",
    "\n",
    "print(\"\\nFirst few rows of data:\")\n",
    "print(df.head())\n",
    "\n",
    "# Check if we have any string values in supposedly numeric columns\n",
    "# print(\"\\nSample values from LIMIT_BAL:\")\n",
    "# print(df['LIMIT_BAL'].head())\n",
    "# print(\"\\nUnique values in LIMIT_BAL:\")\n",
    "# print(df['LIMIT_BAL'].unique()[:5])\n"
   ],
   "id": "153a4e072d7319cb",
   "outputs": [
    {
     "name": "stdout",
     "output_type": "stream",
     "text": [
      "DataFrame Info:\n",
      "<class 'pandas.core.frame.DataFrame'>\n",
      "RangeIndex: 30001 entries, 0 to 30000\n",
      "Data columns (total 25 columns):\n",
      " #   Column      Non-Null Count  Dtype \n",
      "---  ------      --------------  ----- \n",
      " 0   Unnamed: 0  30001 non-null  object\n",
      " 1   X1          30001 non-null  object\n",
      " 2   X2          30001 non-null  object\n",
      " 3   X3          30001 non-null  object\n",
      " 4   X4          30001 non-null  object\n",
      " 5   X5          30001 non-null  object\n",
      " 6   X6          30001 non-null  object\n",
      " 7   X7          30001 non-null  object\n",
      " 8   X8          30001 non-null  object\n",
      " 9   X9          30001 non-null  object\n",
      " 10  X10         30001 non-null  object\n",
      " 11  X11         30001 non-null  object\n",
      " 12  X12         30001 non-null  object\n",
      " 13  X13         30001 non-null  object\n",
      " 14  X14         30001 non-null  object\n",
      " 15  X15         30001 non-null  object\n",
      " 16  X16         30001 non-null  object\n",
      " 17  X17         30001 non-null  object\n",
      " 18  X18         30001 non-null  object\n",
      " 19  X19         30001 non-null  object\n",
      " 20  X20         30001 non-null  object\n",
      " 21  X21         30001 non-null  object\n",
      " 22  X22         30001 non-null  object\n",
      " 23  X23         30001 non-null  object\n",
      " 24  Y           30001 non-null  object\n",
      "dtypes: object(25)\n",
      "memory usage: 5.7+ MB\n",
      "None\n",
      "\n",
      "First few rows of data:\n",
      "  Unnamed: 0         X1   X2         X3        X4   X5     X6     X7     X8  \\\n",
      "0         ID  LIMIT_BAL  SEX  EDUCATION  MARRIAGE  AGE  PAY_0  PAY_2  PAY_3   \n",
      "1          1      20000    2          2         1   24      2      2     -1   \n",
      "2          2     120000    2          2         2   26     -1      2      0   \n",
      "3          3      90000    2          2         2   34      0      0      0   \n",
      "4          4      50000    2          2         1   37      0      0      0   \n",
      "\n",
      "      X9  ...        X15        X16        X17       X18       X19       X20  \\\n",
      "0  PAY_4  ...  BILL_AMT4  BILL_AMT5  BILL_AMT6  PAY_AMT1  PAY_AMT2  PAY_AMT3   \n",
      "1     -1  ...          0          0          0         0       689         0   \n",
      "2      0  ...       3272       3455       3261         0      1000      1000   \n",
      "3      0  ...      14331      14948      15549      1518      1500      1000   \n",
      "4      0  ...      28314      28959      29547      2000      2019      1200   \n",
      "\n",
      "        X21       X22       X23                           Y  \n",
      "0  PAY_AMT4  PAY_AMT5  PAY_AMT6  default payment next month  \n",
      "1         0         0         0                           1  \n",
      "2      1000         0      2000                           1  \n",
      "3      1000      1000      5000                           0  \n",
      "4      1100      1069      1000                           0  \n",
      "\n",
      "[5 rows x 25 columns]\n"
     ]
    }
   ],
   "execution_count": 6
  },
  {
   "metadata": {},
   "cell_type": "markdown",
   "source": [
    "\n",
    "# Data Cleaning Process\n",
    "## 1. Initial Setup and Data Loading\n"
   ],
   "id": "439747579b25fcff"
  },
  {
   "metadata": {
    "ExecuteTime": {
     "end_time": "2025-04-06T01:30:44.571767Z",
     "start_time": "2025-04-06T01:30:44.488969Z"
    }
   },
   "cell_type": "code",
   "source": [
    "# Create a dictionary for data type conversion\n",
    "dtypes_dict = {\n",
    "    'ID': 'int32',\n",
    "    'LIMIT_BAL': 'float64',\n",
    "    'SEX': 'int8',\n",
    "    'EDUCATION': 'int8',\n",
    "    'MARRIAGE': 'int8',\n",
    "    'AGE': 'int32',\n",
    "    'PAY_0': 'int8',\n",
    "    'PAY_2': 'int8',\n",
    "    'PAY_3': 'int8',\n",
    "    'PAY_4': 'int8',\n",
    "    'PAY_5': 'int8',\n",
    "    'PAY_6': 'int8',\n",
    "    'BILL_AMT1': 'float64',\n",
    "    'BILL_AMT2': 'float64',\n",
    "    'BILL_AMT3': 'float64',\n",
    "    'BILL_AMT4': 'float64',\n",
    "    'BILL_AMT5': 'float64',\n",
    "    'BILL_AMT6': 'float64',\n",
    "    'PAY_AMT1': 'float64',\n",
    "    'PAY_AMT2': 'float64',\n",
    "    'PAY_AMT3': 'float64',\n",
    "    'PAY_AMT4': 'float64',\n",
    "    'PAY_AMT5': 'float64',\n",
    "    'PAY_AMT6': 'float64',\n",
    "    'default.payment.next.month': 'int8'\n",
    "}\n",
    "\n",
    "# Try to convert datatypes and catch any errors\n",
    "try:\n",
    "    df = df.astype(dtypes_dict)\n",
    "    print(\"Data types successfully converted!\")\n",
    "except Exception as e:\n",
    "    print(f\"Error converting data types: {e}\")\n",
    "\n",
    "# Display information about the dataframe\n",
    "print(\"\\nDataFrame Info after conversion attempt:\")\n",
    "print(df.info())\n",
    "\n",
    "# Show the first few rows\n",
    "print(\"\\nFirst few rows:\")\n",
    "print(df.head())\n"
   ],
   "id": "13b1110aad459e9f",
   "outputs": [
    {
     "name": "stdout",
     "output_type": "stream",
     "text": [
      "Error converting data types: \"Only a column name can be used for the key in a dtype mappings argument. 'ID' not found in columns.\"\n",
      "\n",
      "DataFrame Info after conversion attempt:\n",
      "<class 'pandas.core.frame.DataFrame'>\n",
      "RangeIndex: 30001 entries, 0 to 30000\n",
      "Data columns (total 25 columns):\n",
      " #   Column      Non-Null Count  Dtype \n",
      "---  ------      --------------  ----- \n",
      " 0   Unnamed: 0  30001 non-null  object\n",
      " 1   X1          30001 non-null  object\n",
      " 2   X2          30001 non-null  object\n",
      " 3   X3          30001 non-null  object\n",
      " 4   X4          30001 non-null  object\n",
      " 5   X5          30001 non-null  object\n",
      " 6   X6          30001 non-null  object\n",
      " 7   X7          30001 non-null  object\n",
      " 8   X8          30001 non-null  object\n",
      " 9   X9          30001 non-null  object\n",
      " 10  X10         30001 non-null  object\n",
      " 11  X11         30001 non-null  object\n",
      " 12  X12         30001 non-null  object\n",
      " 13  X13         30001 non-null  object\n",
      " 14  X14         30001 non-null  object\n",
      " 15  X15         30001 non-null  object\n",
      " 16  X16         30001 non-null  object\n",
      " 17  X17         30001 non-null  object\n",
      " 18  X18         30001 non-null  object\n",
      " 19  X19         30001 non-null  object\n",
      " 20  X20         30001 non-null  object\n",
      " 21  X21         30001 non-null  object\n",
      " 22  X22         30001 non-null  object\n",
      " 23  X23         30001 non-null  object\n",
      " 24  Y           30001 non-null  object\n",
      "dtypes: object(25)\n",
      "memory usage: 5.7+ MB\n",
      "None\n",
      "\n",
      "First few rows:\n",
      "  Unnamed: 0         X1   X2         X3        X4   X5     X6     X7     X8  \\\n",
      "0         ID  LIMIT_BAL  SEX  EDUCATION  MARRIAGE  AGE  PAY_0  PAY_2  PAY_3   \n",
      "1          1      20000    2          2         1   24      2      2     -1   \n",
      "2          2     120000    2          2         2   26     -1      2      0   \n",
      "3          3      90000    2          2         2   34      0      0      0   \n",
      "4          4      50000    2          2         1   37      0      0      0   \n",
      "\n",
      "      X9  ...        X15        X16        X17       X18       X19       X20  \\\n",
      "0  PAY_4  ...  BILL_AMT4  BILL_AMT5  BILL_AMT6  PAY_AMT1  PAY_AMT2  PAY_AMT3   \n",
      "1     -1  ...          0          0          0         0       689         0   \n",
      "2      0  ...       3272       3455       3261         0      1000      1000   \n",
      "3      0  ...      14331      14948      15549      1518      1500      1000   \n",
      "4      0  ...      28314      28959      29547      2000      2019      1200   \n",
      "\n",
      "        X21       X22       X23                           Y  \n",
      "0  PAY_AMT4  PAY_AMT5  PAY_AMT6  default payment next month  \n",
      "1         0         0         0                           1  \n",
      "2      1000         0      2000                           1  \n",
      "3      1000      1000      5000                           0  \n",
      "4      1100      1069      1000                           0  \n",
      "\n",
      "[5 rows x 25 columns]\n"
     ]
    }
   ],
   "execution_count": 7
  },
  {
   "metadata": {},
   "cell_type": "markdown",
   "source": "## Checking data type in the columns\n",
   "id": "6686220eb6780d93"
  },
  {
   "metadata": {
    "ExecuteTime": {
     "end_time": "2025-04-06T01:30:44.608262Z",
     "start_time": "2025-04-06T01:30:44.588913Z"
    }
   },
   "cell_type": "code",
   "source": [
    "df['X6'].unique()\n",
    "df['X6'].sample(10)  # peek at a few\n"
   ],
   "id": "22029811fa918268",
   "outputs": [
    {
     "data": {
      "text/plain": [
       "4933      0\n",
       "5595      1\n",
       "12257     0\n",
       "21574     2\n",
       "5557      0\n",
       "11513    -1\n",
       "27850     2\n",
       "18240    -2\n",
       "24617    -1\n",
       "3046     -1\n",
       "Name: X6, dtype: object"
      ]
     },
     "execution_count": 8,
     "metadata": {},
     "output_type": "execute_result"
    }
   ],
   "execution_count": 8
  },
  {
   "metadata": {
    "ExecuteTime": {
     "end_time": "2025-04-06T01:30:44.720776Z",
     "start_time": "2025-04-06T01:30:44.695830Z"
    }
   },
   "cell_type": "code",
   "source": [
    "df['X6'] = pd.to_numeric(df['X6'], errors='coerce')\n",
    "df['X6'].dtype\n"
   ],
   "id": "a751ad1409733b58",
   "outputs": [
    {
     "data": {
      "text/plain": [
       "dtype('float64')"
      ]
     },
     "execution_count": 9,
     "metadata": {},
     "output_type": "execute_result"
    }
   ],
   "execution_count": 9
  },
  {
   "metadata": {},
   "cell_type": "markdown",
   "source": [
    "## Above code confirmed the fix for the X6 column.\n",
    "- Apply the same cleaning process to all columns."
   ],
   "id": "6db8afeb5833411c"
  },
  {
   "metadata": {
    "ExecuteTime": {
     "end_time": "2025-04-06T01:30:45.112365Z",
     "start_time": "2025-04-06T01:30:44.794609Z"
    }
   },
   "cell_type": "code",
   "source": [
    "# Checks columns for dtype.  If integer it is left alone.  if object it is converted\n",
    "for col in df.select_dtypes(include='object'):\n",
    "    df[col] = pd.to_numeric(df[col], errors='coerce')\n",
    "# check conversions afterwards\n",
    "df.dtypes  # After conversion\n"
   ],
   "id": "dbcb0afed5977d8f",
   "outputs": [
    {
     "data": {
      "text/plain": [
       "Unnamed: 0    float64\n",
       "X1            float64\n",
       "X2            float64\n",
       "X3            float64\n",
       "X4            float64\n",
       "X5            float64\n",
       "X6            float64\n",
       "X7            float64\n",
       "X8            float64\n",
       "X9            float64\n",
       "X10           float64\n",
       "X11           float64\n",
       "X12           float64\n",
       "X13           float64\n",
       "X14           float64\n",
       "X15           float64\n",
       "X16           float64\n",
       "X17           float64\n",
       "X18           float64\n",
       "X19           float64\n",
       "X20           float64\n",
       "X21           float64\n",
       "X22           float64\n",
       "X23           float64\n",
       "Y             float64\n",
       "dtype: object"
      ]
     },
     "execution_count": 10,
     "metadata": {},
     "output_type": "execute_result"
    }
   ],
   "execution_count": 10
  },
  {
   "metadata": {},
   "cell_type": "markdown",
   "source": "## Rename the columns to be more descriptive",
   "id": "5ab6b8dac81dfcd6"
  },
  {
   "metadata": {
    "ExecuteTime": {
     "end_time": "2025-04-06T01:30:45.711279Z",
     "start_time": "2025-04-06T01:30:45.683391Z"
    }
   },
   "cell_type": "code",
   "outputs": [],
   "execution_count": 11,
   "source": [
    "# Create a dictionary mapping original column names to more descriptive names\n",
    "column_mapping = {\n",
    "    'X1': 'CREDIT_AMOUNT',\n",
    "    'X2': 'GENDER',\n",
    "    'X3': 'EDUCATION',\n",
    "    'X4': 'MARITAL_STATUS',\n",
    "    'X5': 'AGE',\n",
    "    'X6': 'PAY_SEPT',  # or 'PAY_1' for consistency\n",
    "    'X7': 'PAY_AUG',  # or 'PAY_2' for consistency\n",
    "    'X8': 'PAY_JUL',  # or 'PAY_3' for consistency\n",
    "    'X9': 'PAY_JUN',  # or 'PAY_4' for consistency\n",
    "    'X10': 'PAY_MAY',  # or 'PAY_5' for consistency\n",
    "    'X11': 'PAY_APR',  # or 'PAY_6' for consistency\n",
    "    'X12': 'BILL_SEPT',  # or 'BILL_AMT1' for consistency\n",
    "    'X13': 'BILL_AUG',  # or 'BILL_AMT2' for consistency\n",
    "    'X14': 'BILL_JUL',  # or 'BILL_AMT3' for consistency\n",
    "    'X15': 'BILL_JUN',  # or 'BILL_AMT4' for consistency\n",
    "    'X16': 'BILL_MAY',  # or 'BILL_AMT5' for consistency\n",
    "    'X17': 'BILL_APR',  # or 'BILL_AMT6' for consistency\n",
    "    'X18': 'PAY_AMT_SEPT',  # or 'PAY_AMT1' for consistency\n",
    "    'X19': 'PAY_AMT_AUG',  # or 'PAY_AMT2' for consistency\n",
    "    'X20': 'PAY_AMT_JUL',  # or 'PAY_AMT3' for consistency\n",
    "    'X21': 'PAY_AMT_JUN',  # or 'PAY_AMT4' for consistency\n",
    "    'X22': 'PAY_AMT_MAY',  # or 'PAY_AMT5' for consistency\n",
    "    'X23': 'PAY_AMT_APR',  # or 'PAY_AMT6' for consistency\n",
    "    # Assuming you also have a target column\n",
    "    'default.payment.next.month': 'DEFAULT'  # if this is your target column\n",
    "}\n",
    "\n",
    "# Apply the renaming to your dataframe\n",
    "df = df.rename(columns=column_mapping)\n"
   ],
   "id": "8f4d3ba697421c9b"
  },
  {
   "metadata": {
    "ExecuteTime": {
     "end_time": "2025-04-06T01:33:34.188947Z",
     "start_time": "2025-04-06T01:33:34.172528Z"
    }
   },
   "cell_type": "code",
   "source": [
    "# Example of mapping categorical values\n",
    "df['GENDER'] = df['GENDER'].map({1: 'Male', 2: 'Female'})\n",
    "df['EDUCATION'] = df['EDUCATION'].map({1: 'Graduate School', 2: 'University', 3: 'High School', 4: 'Other'})\n",
    "df['MARITAL_STATUS'] = df['MARITAL_STATUS'].map({1: 'Married', 2: 'Single', 3: 'Other'})\n"
   ],
   "id": "158cf2fa524c96c9",
   "outputs": [],
   "execution_count": 12
  }
 ],
 "metadata": {
  "kernelspec": {
   "display_name": "Python 3",
   "language": "python",
   "name": "python3"
  },
  "language_info": {
   "codemirror_mode": {
    "name": "ipython",
    "version": 2
   },
   "file_extension": ".py",
   "mimetype": "text/x-python",
   "name": "python",
   "nbconvert_exporter": "python",
   "pygments_lexer": "ipython2",
   "version": "2.7.6"
  }
 },
 "nbformat": 4,
 "nbformat_minor": 5
}
