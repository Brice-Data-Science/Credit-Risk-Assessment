{
 "cells": [
  {
   "metadata": {},
   "cell_type": "markdown",
   "source": [
    "# Project Structure\n",
    "\n",
    "credit_card_default_project/\n",
    "├── data/\n",
    "│   ├── raw/\n",
    "│   │   └── default_of_credit_card_clients.xls      # Original dataset (UCI)\n",
    "│   └── processed/\n",
    "│       └── credit_default_cleaned.csv              # Cleaned data (optional)\n",
    "│\n",
    "├── notebooks/\n",
    "│   ├── docs/\n",
    "│   │   └── data_inspection_documentation.ipynb     # Documentation of data inspection\n",
    "│   │   └── data_inspection_guide.ipynb             # Documentation to guide the data inspection\n",
    "│   │   └── documentation.md                        # Documentation of project progress\n",
    "│   ├── 01_data_cleaning_and_eda.ipynb              # Initial exploration + visuals\n",
    "│   ├── 02_model_training.ipynb                     # Modeling steps and evaluation\n",
    "│   └── 03_final_summary_and_insights.ipynb         # Conclusions, charts, exports\n",
    "│\n",
    "├── reports/\n",
    "│   └── figures/                                     # Images for charts/graphs\n",
    "│       └── default_distribution.png\n",
    "│   └── summary_report.md                           # Written insights & findings\n",
    "│\n",
    "├── src/\n",
    "│   ├── __init__.py\n",
    "│   ├── data_preprocessing.py                       # (Optional) reusable functions\n",
    "│   ├── modeling.py                                 # (Optional) ML pipeline funcs\n",
    "│   └── utils.py                                    # Helper functions (load/save/etc.)\n",
    "│\n",
    "├── environment.yml                                  # Conda env file\n",
    "├── README.md                                        # Project overview, goals, how to run\n",
    "├── .gitignore                                       # Ignore data files, checkpoints, etc.\n",
    "└── LICENSE                                          # (Optional) License for public repos\n"
   ],
   "id": "7512c59407849d81"
  },
  {
   "metadata": {},
   "cell_type": "code",
   "outputs": [],
   "execution_count": null,
   "source": "",
   "id": "e0ea634e4dcd672"
  }
 ],
 "metadata": {
  "kernelspec": {
   "display_name": "Python 3",
   "language": "python",
   "name": "python3"
  },
  "language_info": {
   "codemirror_mode": {
    "name": "ipython",
    "version": 2
   },
   "file_extension": ".py",
   "mimetype": "text/x-python",
   "name": "python",
   "nbconvert_exporter": "python",
   "pygments_lexer": "ipython2",
   "version": "2.7.6"
  }
 },
 "nbformat": 4,
 "nbformat_minor": 5
}
